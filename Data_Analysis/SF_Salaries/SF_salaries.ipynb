{
 "cells": [
  {
   "cell_type": "markdown",
   "id": "0f02d0fc",
   "metadata": {},
   "source": [
    "The goal of this project is to check on salary distribution."
   ]
  },
  {
   "cell_type": "code",
   "execution_count": null,
   "id": "53b593fa",
   "metadata": {},
   "outputs": [
    {
     "name": "stdout",
     "output_type": "stream",
     "text": [
      "   Id       EmployeeName                                        JobTitle  \\\n",
      "0   1     NATHANIEL FORD  GENERAL MANAGER-METROPOLITAN TRANSIT AUTHORITY   \n",
      "1   2       GARY JIMENEZ                 CAPTAIN III (POLICE DEPARTMENT)   \n",
      "2   3     ALBERT PARDINI                 CAPTAIN III (POLICE DEPARTMENT)   \n",
      "3   4  CHRISTOPHER CHONG            WIRE ROPE CABLE MAINTENANCE MECHANIC   \n",
      "4   5    PATRICK GARDNER    DEPUTY CHIEF OF DEPARTMENT,(FIRE DEPARTMENT)   \n",
      "\n",
      "     BasePay OvertimePay   OtherPay Benefits   TotalPay  TotalPayBenefits  \\\n",
      "0  167411.18         0.0  400184.25      NaN  567595.43         567595.43   \n",
      "1  155966.02   245131.88  137811.38      NaN  538909.28         538909.28   \n",
      "2  212739.13   106088.18    16452.6      NaN  335279.91         335279.91   \n",
      "3    77916.0    56120.71   198306.9      NaN  332343.61         332343.61   \n",
      "4   134401.6      9737.0  182234.59      NaN  326373.19         326373.19   \n",
      "\n",
      "   Year  Notes         Agency Status  \n",
      "0  2011    NaN  San Francisco    NaN  \n",
      "1  2011    NaN  San Francisco    NaN  \n",
      "2  2011    NaN  San Francisco    NaN  \n",
      "3  2011    NaN  San Francisco    NaN  \n",
      "4  2011    NaN  San Francisco    NaN  \n"
     ]
    },
    {
     "name": "stdout",
     "output_type": "stream",
     "text": [
      "   Id       EmployeeName                                        JobTitle  \\\n",
      "0   1     NATHANIEL FORD  GENERAL MANAGER-METROPOLITAN TRANSIT AUTHORITY   \n",
      "1   2       GARY JIMENEZ                 CAPTAIN III (POLICE DEPARTMENT)   \n",
      "2   3     ALBERT PARDINI                 CAPTAIN III (POLICE DEPARTMENT)   \n",
      "3   4  CHRISTOPHER CHONG            WIRE ROPE CABLE MAINTENANCE MECHANIC   \n",
      "4   5    PATRICK GARDNER    DEPUTY CHIEF OF DEPARTMENT,(FIRE DEPARTMENT)   \n",
      "\n",
      "     BasePay OvertimePay   OtherPay Benefits   TotalPay  TotalPayBenefits  \\\n",
      "0  167411.18         0.0  400184.25      NaN  567595.43         567595.43   \n",
      "1  155966.02   245131.88  137811.38      NaN  538909.28         538909.28   \n",
      "2  212739.13   106088.18    16452.6      NaN  335279.91         335279.91   \n",
      "3    77916.0    56120.71   198306.9      NaN  332343.61         332343.61   \n",
      "4   134401.6      9737.0  182234.59      NaN  326373.19         326373.19   \n",
      "\n",
      "   Year  Notes         Agency Status  \n",
      "0  2011    NaN  San Francisco    NaN  \n",
      "1  2011    NaN  San Francisco    NaN  \n",
      "2  2011    NaN  San Francisco    NaN  \n",
      "3  2011    NaN  San Francisco    NaN  \n",
      "4  2011    NaN  San Francisco    NaN  \n"
     ]
    }
   ],
   "source": [
    "import pandas as pd\n",
    "import numpy as num\n",
    "df = pd.read_csv(\"Salaries.csv\", low_memory=False)\n",
    "#print out few rows in the data set\n",
    "print(df.head(5))"
   ]
  },
  {
   "cell_type": "markdown",
   "id": "fe78ee8f",
   "metadata": {},
   "source": [
    "Display the last 10 datasets"
   ]
  },
  {
   "cell_type": "code",
   "execution_count": null,
   "id": "2e04bee0",
   "metadata": {},
   "outputs": [
    {
     "name": "stdout",
     "output_type": "stream",
     "text": [
      "            Id      EmployeeName                      JobTitle       BasePay  \\\n",
      "148644  148645      Randy D Winn  Stationary Eng, Sewage Plant          0.00   \n",
      "148645  148646  Carolyn A Wilson     Human Services Technician          0.00   \n",
      "148646  148647      Not provided                  Not provided  Not Provided   \n",
      "148647  148648    Joann Anderson   Communications Dispatcher 2          0.00   \n",
      "148648  148649       Leon Walker                     Custodian          0.00   \n",
      "148649  148650     Roy I Tillery                     Custodian          0.00   \n",
      "148650  148651      Not provided                  Not provided  Not Provided   \n",
      "148651  148652      Not provided                  Not provided  Not Provided   \n",
      "148652  148653      Not provided                  Not provided  Not Provided   \n",
      "148653  148654         Joe Lopez    Counselor, Log Cabin Ranch          0.00   \n",
      "\n",
      "         OvertimePay      OtherPay      Benefits  TotalPay  TotalPayBenefits  \\\n",
      "148644          0.00          0.00          0.00      0.00              0.00   \n",
      "148645          0.00          0.00          0.00      0.00              0.00   \n",
      "148646  Not Provided  Not Provided  Not Provided      0.00              0.00   \n",
      "148647          0.00          0.00          0.00      0.00              0.00   \n",
      "148648          0.00          0.00          0.00      0.00              0.00   \n",
      "148649          0.00          0.00          0.00      0.00              0.00   \n",
      "148650  Not Provided  Not Provided  Not Provided      0.00              0.00   \n",
      "148651  Not Provided  Not Provided  Not Provided      0.00              0.00   \n",
      "148652  Not Provided  Not Provided  Not Provided      0.00              0.00   \n",
      "148653          0.00       -618.13          0.00   -618.13           -618.13   \n",
      "\n",
      "        Year  Notes         Agency Status  \n",
      "148644  2014    NaN  San Francisco     PT  \n",
      "148645  2014    NaN  San Francisco     PT  \n",
      "148646  2014    NaN  San Francisco    NaN  \n",
      "148647  2014    NaN  San Francisco     PT  \n",
      "148648  2014    NaN  San Francisco     PT  \n",
      "148649  2014    NaN  San Francisco     PT  \n",
      "148650  2014    NaN  San Francisco    NaN  \n",
      "148651  2014    NaN  San Francisco    NaN  \n",
      "148652  2014    NaN  San Francisco    NaN  \n",
      "148653  2014    NaN  San Francisco     PT  \n"
     ]
    }
   ],
   "source": [
    "print(df.tail(10))"
   ]
  },
  {
   "cell_type": "markdown",
   "id": "78127e3b",
   "metadata": {},
   "source": [
    "Display the column names in the dataset."
   ]
  },
  {
   "cell_type": "code",
   "execution_count": null,
   "id": "5c7e8637",
   "metadata": {},
   "outputs": [
    {
     "name": "stdout",
     "output_type": "stream",
     "text": [
      "Index(['Id', 'EmployeeName', 'JobTitle', 'BasePay', 'OvertimePay', 'OtherPay',\n",
      "       'Benefits', 'TotalPay', 'TotalPayBenefits', 'Year', 'Notes', 'Agency',\n",
      "       'Status'],\n",
      "      dtype='object')\n"
     ]
    }
   ],
   "source": [
    "print(df.columns)"
   ]
  },
  {
   "cell_type": "markdown",
   "id": "00684fe5",
   "metadata": {},
   "source": [
    "Scanning on the shape of the dataset, checking on the number of rows, columns."
   ]
  },
  {
   "cell_type": "code",
   "execution_count": null,
   "id": "c56d3cde",
   "metadata": {},
   "outputs": [
    {
     "name": "stdout",
     "output_type": "stream",
     "text": [
      "<class 'pandas.core.frame.DataFrame'>\n",
      "RangeIndex: 148654 entries, 0 to 148653\n",
      "Data columns (total 13 columns):\n",
      " #   Column            Non-Null Count   Dtype  \n",
      "---  ------            --------------   -----  \n",
      " 0   Id                148654 non-null  int64  \n",
      " 1   EmployeeName      148654 non-null  object \n",
      " 2   JobTitle          148654 non-null  object \n",
      " 3   BasePay           148049 non-null  object \n",
      " 4   OvertimePay       148654 non-null  object \n",
      " 5   OtherPay          148654 non-null  object \n",
      " 6   Benefits          112495 non-null  object \n",
      " 7   TotalPay          148654 non-null  float64\n",
      " 8   TotalPayBenefits  148654 non-null  float64\n",
      " 9   Year              148654 non-null  int64  \n",
      " 10  Notes             0 non-null       float64\n",
      " 11  Agency            148654 non-null  object \n",
      " 12  Status            38119 non-null   object \n",
      "dtypes: float64(3), int64(2), object(8)\n",
      "memory usage: 14.7+ MB\n",
      "None\n",
      "(148654, 13)\n"
     ]
    }
   ],
   "source": [
    "print(df.info())\n",
    "\"\"\"Below the information is the rows and column entries in the dataset\"\"\"\n",
    "print(df.shape)"
   ]
  },
  {
   "cell_type": "markdown",
   "id": "1823e176",
   "metadata": {},
   "source": [
    "Check on missing values or duplicate data"
   ]
  },
  {
   "cell_type": "code",
   "execution_count": null,
   "id": "d112c7fe",
   "metadata": {},
   "outputs": [
    {
     "name": "stdout",
     "output_type": "stream",
     "text": [
      "Id                       0\n",
      "EmployeeName             0\n",
      "JobTitle                 0\n",
      "BasePay                605\n",
      "OvertimePay              0\n",
      "OtherPay                 0\n",
      "Benefits             36159\n",
      "TotalPay                 0\n",
      "TotalPayBenefits         0\n",
      "Year                     0\n",
      "Notes               148654\n",
      "Agency                   0\n",
      "Status              110535\n",
      "dtype: int64\n"
     ]
    }
   ],
   "source": [
    "print(df.isnull().sum())"
   ]
  },
  {
   "cell_type": "markdown",
   "id": "2e54f588",
   "metadata": {},
   "source": [
    "Check for duplicate data"
   ]
  },
  {
   "cell_type": "code",
   "execution_count": null,
   "id": "051028cd",
   "metadata": {},
   "outputs": [
    {
     "name": "stdout",
     "output_type": "stream",
     "text": [
      "<bound method Series.sum of 0         False\n",
      "1         False\n",
      "2         False\n",
      "3         False\n",
      "4         False\n",
      "          ...  \n",
      "148649    False\n",
      "148650    False\n",
      "148651    False\n",
      "148652    False\n",
      "148653    False\n",
      "Length: 148654, dtype: bool>\n"
     ]
    }
   ],
   "source": [
    "print(df.duplicated().sum)"
   ]
  },
  {
   "cell_type": "markdown",
   "id": "a818c079",
   "metadata": {},
   "source": [
    "Dropping columns Notes, agency and status."
   ]
  },
  {
   "cell_type": "code",
   "execution_count": null,
   "id": "5a71682c",
   "metadata": {},
   "outputs": [],
   "source": [
    "df=df.drop(columns=[\"Notes\",\"Agency\",\"Status\"])"
   ]
  },
  {
   "cell_type": "markdown",
   "id": "9f71392b",
   "metadata": {},
   "source": [
    "Getting overall statistics of the dataframe"
   ]
  },
  {
   "cell_type": "code",
   "execution_count": null,
   "id": "3503c369",
   "metadata": {},
   "outputs": [
    {
     "data": {
      "text/html": [
       "<div>\n",
       "<style scoped>\n",
       "    .dataframe tbody tr th:only-of-type {\n",
       "        vertical-align: middle;\n",
       "    }\n",
       "\n",
       "    .dataframe tbody tr th {\n",
       "        vertical-align: top;\n",
       "    }\n",
       "\n",
       "    .dataframe thead th {\n",
       "        text-align: right;\n",
       "    }\n",
       "</style>\n",
       "<table border=\"1\" class=\"dataframe\">\n",
       "  <thead>\n",
       "    <tr style=\"text-align: right;\">\n",
       "      <th></th>\n",
       "      <th>Id</th>\n",
       "      <th>TotalPay</th>\n",
       "      <th>TotalPayBenefits</th>\n",
       "      <th>Year</th>\n",
       "    </tr>\n",
       "  </thead>\n",
       "  <tbody>\n",
       "    <tr>\n",
       "      <th>count</th>\n",
       "      <td>148654.000000</td>\n",
       "      <td>148654.000000</td>\n",
       "      <td>148654.000000</td>\n",
       "      <td>148654.000000</td>\n",
       "    </tr>\n",
       "    <tr>\n",
       "      <th>mean</th>\n",
       "      <td>74327.500000</td>\n",
       "      <td>74768.321972</td>\n",
       "      <td>93692.554811</td>\n",
       "      <td>2012.522643</td>\n",
       "    </tr>\n",
       "    <tr>\n",
       "      <th>std</th>\n",
       "      <td>42912.857795</td>\n",
       "      <td>50517.005274</td>\n",
       "      <td>62793.533483</td>\n",
       "      <td>1.117538</td>\n",
       "    </tr>\n",
       "    <tr>\n",
       "      <th>min</th>\n",
       "      <td>1.000000</td>\n",
       "      <td>-618.130000</td>\n",
       "      <td>-618.130000</td>\n",
       "      <td>2011.000000</td>\n",
       "    </tr>\n",
       "    <tr>\n",
       "      <th>25%</th>\n",
       "      <td>37164.250000</td>\n",
       "      <td>36168.995000</td>\n",
       "      <td>44065.650000</td>\n",
       "      <td>2012.000000</td>\n",
       "    </tr>\n",
       "    <tr>\n",
       "      <th>50%</th>\n",
       "      <td>74327.500000</td>\n",
       "      <td>71426.610000</td>\n",
       "      <td>92404.090000</td>\n",
       "      <td>2013.000000</td>\n",
       "    </tr>\n",
       "    <tr>\n",
       "      <th>75%</th>\n",
       "      <td>111490.750000</td>\n",
       "      <td>105839.135000</td>\n",
       "      <td>132876.450000</td>\n",
       "      <td>2014.000000</td>\n",
       "    </tr>\n",
       "    <tr>\n",
       "      <th>max</th>\n",
       "      <td>148654.000000</td>\n",
       "      <td>567595.430000</td>\n",
       "      <td>567595.430000</td>\n",
       "      <td>2014.000000</td>\n",
       "    </tr>\n",
       "  </tbody>\n",
       "</table>\n",
       "</div>"
      ],
      "text/plain": [
       "                  Id       TotalPay  TotalPayBenefits           Year\n",
       "count  148654.000000  148654.000000     148654.000000  148654.000000\n",
       "mean    74327.500000   74768.321972      93692.554811    2012.522643\n",
       "std     42912.857795   50517.005274      62793.533483       1.117538\n",
       "min         1.000000    -618.130000       -618.130000    2011.000000\n",
       "25%     37164.250000   36168.995000      44065.650000    2012.000000\n",
       "50%     74327.500000   71426.610000      92404.090000    2013.000000\n",
       "75%    111490.750000  105839.135000     132876.450000    2014.000000\n",
       "max    148654.000000  567595.430000     567595.430000    2014.000000"
      ]
     },
     "execution_count": 749,
     "metadata": {},
     "output_type": "execute_result"
    }
   ],
   "source": [
    "df.describe()"
   ]
  },
  {
   "cell_type": "markdown",
   "id": "c60127c1",
   "metadata": {},
   "source": [
    "Finding the occurence of top 5 employees names"
   ]
  },
  {
   "cell_type": "code",
   "execution_count": null,
   "id": "ae169b5f",
   "metadata": {},
   "outputs": [
    {
     "data": {
      "text/plain": [
       "EmployeeName\n",
       "Kevin Lee       13\n",
       "William Wong    11\n",
       "Richard Lee     11\n",
       "Steven Lee      11\n",
       "John Chan        9\n",
       "Name: count, dtype: int64"
      ]
     },
     "execution_count": 750,
     "metadata": {},
     "output_type": "execute_result"
    }
   ],
   "source": [
    "df[\"EmployeeName\"].value_counts().head(5)"
   ]
  },
  {
   "cell_type": "markdown",
   "id": "91ca4b44",
   "metadata": {},
   "source": [
    "finding the number of unique jobs"
   ]
  },
  {
   "cell_type": "code",
   "execution_count": null,
   "id": "99ec75a7",
   "metadata": {},
   "outputs": [
    {
     "data": {
      "text/plain": [
       "array(['GENERAL MANAGER-METROPOLITAN TRANSIT AUTHORITY',\n",
       "       'CAPTAIN III (POLICE DEPARTMENT)',\n",
       "       'WIRE ROPE CABLE MAINTENANCE MECHANIC', ..., 'Conversion',\n",
       "       'Cashier 3', 'Not provided'], dtype=object)"
      ]
     },
     "execution_count": 751,
     "metadata": {},
     "output_type": "execute_result"
    }
   ],
   "source": [
    "df[\"JobTitle\"].unique()\n"
   ]
  },
  {
   "cell_type": "markdown",
   "id": "9c167f90",
   "metadata": {},
   "source": [
    "Finding the jobs with the name captain"
   ]
  },
  {
   "cell_type": "code",
   "execution_count": null,
   "id": "1b37f4f9",
   "metadata": {},
   "outputs": [
    {
     "data": {
      "text/plain": [
       "Index(['Id', 'EmployeeName', 'JobTitle', 'BasePay', 'OvertimePay', 'OtherPay',\n",
       "       'Benefits', 'TotalPay', 'TotalPayBenefits', 'Year'],\n",
       "      dtype='object')"
      ]
     },
     "execution_count": 752,
     "metadata": {},
     "output_type": "execute_result"
    }
   ],
   "source": [
    "df.columns"
   ]
  },
  {
   "cell_type": "code",
   "execution_count": null,
   "id": "757db301",
   "metadata": {},
   "outputs": [
    {
     "data": {
      "text/plain": [
       "np.int64(552)"
      ]
     },
     "execution_count": 753,
     "metadata": {},
     "output_type": "execute_result"
    }
   ],
   "source": [
    "df['JobTitle'].str.contains(\"CAPTAIN\",case=False).sum()"
   ]
  },
  {
   "cell_type": "markdown",
   "id": "2dd67666",
   "metadata": {},
   "source": [
    "Display the names of the Employees in Fire Department"
   ]
  },
  {
   "cell_type": "code",
   "execution_count": null,
   "id": "8c3966bd",
   "metadata": {},
   "outputs": [
    {
     "data": {
      "text/plain": [
       "4              PATRICK GARDNER\n",
       "6                    ALSON LEE\n",
       "8               MICHAEL MORRIS\n",
       "9           JOANNE HAYES-WHITE\n",
       "10               ARTHUR KENNEY\n",
       "                  ...         \n",
       "32623             JAMES BARDEN\n",
       "36162       Joanne Hayes-White\n",
       "72926     Joanne M Hayes-White\n",
       "102303          Robert E Evans\n",
       "110535    Joanne M Hayes-White\n",
       "Name: EmployeeName, Length: 226, dtype: object"
      ]
     },
     "execution_count": 754,
     "metadata": {},
     "output_type": "execute_result"
    }
   ],
   "source": [
    "df[df['JobTitle'].str.contains(\"Fire Department\", case=False)]['EmployeeName']"
   ]
  },
  {
   "cell_type": "markdown",
   "id": "04fe0732",
   "metadata": {},
   "source": [
    "Finding minimum, maximum and average pay\n",
    "Get the type of the data column Basepay\n",
    "Convert to float"
   ]
  },
  {
   "cell_type": "code",
   "execution_count": null,
   "id": "d0111a5a",
   "metadata": {},
   "outputs": [
    {
     "data": {
      "text/plain": [
       "count    148045.000000\n",
       "mean      66325.448840\n",
       "std       42764.635495\n",
       "min        -166.010000\n",
       "25%       33588.200000\n",
       "50%       65007.450000\n",
       "75%       94691.050000\n",
       "max      319275.010000\n",
       "Name: BasePay, dtype: float64"
      ]
     },
     "execution_count": 755,
     "metadata": {},
     "output_type": "execute_result"
    }
   ],
   "source": [
    "\"\"\" errors=coerce  means that if it hits a value that is string it replaces it with Nan so as not raise an error\"\"\"\n",
    "df[\"BasePay\"] = pd.to_numeric(df[\"BasePay\"], errors=\"coerce\")\n",
    "df[\"BasePay\"].describe()\n",
    "\n",
    "\n"
   ]
  },
  {
   "cell_type": "markdown",
   "id": "48f14fb7",
   "metadata": {},
   "source": [
    "Replace the not provided in the Employee column to Nan"
   ]
  },
  {
   "cell_type": "code",
   "execution_count": null,
   "id": "1847238e",
   "metadata": {},
   "outputs": [
    {
     "name": "stdout",
     "output_type": "stream",
     "text": [
      "0            NATHANIEL FORD\n",
      "1              GARY JIMENEZ\n",
      "2            ALBERT PARDINI\n",
      "3         CHRISTOPHER CHONG\n",
      "4           PATRICK GARDNER\n",
      "                ...        \n",
      "148649        Roy I Tillery\n",
      "148650         Not provided\n",
      "148651         Not provided\n",
      "148652         Not provided\n",
      "148653            Joe Lopez\n",
      "Name: EmployeeName, Length: 148654, dtype: object\n"
     ]
    }
   ],
   "source": [
    "print(df[\"EmployeeName\"])"
   ]
  },
  {
   "cell_type": "code",
   "execution_count": null,
   "id": "0a6fa2ba",
   "metadata": {},
   "outputs": [
    {
     "name": "stdout",
     "output_type": "stream",
     "text": [
      "0            NATHANIEL FORD\n",
      "1              GARY JIMENEZ\n",
      "2            ALBERT PARDINI\n",
      "3         CHRISTOPHER CHONG\n",
      "4           PATRICK GARDNER\n",
      "                ...        \n",
      "148649        Roy I Tillery\n",
      "148650                  NaN\n",
      "148651                  NaN\n",
      "148652                  NaN\n",
      "148653            Joe Lopez\n",
      "Name: EmployeeName, Length: 148654, dtype: object\n"
     ]
    }
   ],
   "source": [
    "df[\"EmployeeName\"] = df[\"EmployeeName\"].replace(\"Not provided\",num.nan)\n",
    "print(df[\"EmployeeName\"])"
   ]
  },
  {
   "cell_type": "markdown",
   "id": "8e1749f6",
   "metadata": {},
   "source": [
    "Dropping a row with 5 missing values"
   ]
  },
  {
   "cell_type": "code",
   "execution_count": null,
   "id": "cef882f5",
   "metadata": {},
   "outputs": [
    {
     "data": {
      "text/html": [
       "<div>\n",
       "<style scoped>\n",
       "    .dataframe tbody tr th:only-of-type {\n",
       "        vertical-align: middle;\n",
       "    }\n",
       "\n",
       "    .dataframe tbody tr th {\n",
       "        vertical-align: top;\n",
       "    }\n",
       "\n",
       "    .dataframe thead th {\n",
       "        text-align: right;\n",
       "    }\n",
       "</style>\n",
       "<table border=\"1\" class=\"dataframe\">\n",
       "  <thead>\n",
       "    <tr style=\"text-align: right;\">\n",
       "      <th></th>\n",
       "      <th>Id</th>\n",
       "      <th>EmployeeName</th>\n",
       "      <th>JobTitle</th>\n",
       "      <th>BasePay</th>\n",
       "      <th>OvertimePay</th>\n",
       "      <th>OtherPay</th>\n",
       "      <th>Benefits</th>\n",
       "      <th>TotalPay</th>\n",
       "      <th>TotalPayBenefits</th>\n",
       "      <th>Year</th>\n",
       "    </tr>\n",
       "  </thead>\n",
       "  <tbody>\n",
       "  </tbody>\n",
       "</table>\n",
       "</div>"
      ],
      "text/plain": [
       "Empty DataFrame\n",
       "Columns: [Id, EmployeeName, JobTitle, BasePay, OvertimePay, OtherPay, Benefits, TotalPay, TotalPayBenefits, Year]\n",
       "Index: []"
      ]
     },
     "execution_count": 758,
     "metadata": {},
     "output_type": "execute_result"
    }
   ],
   "source": [
    "df[df.isnull().sum(axis=1)==5]"
   ]
  },
  {
   "cell_type": "markdown",
   "id": "b3d02d5f",
   "metadata": {},
   "source": [
    "Convert overtimepay, otherpay benefits  into float"
   ]
  },
  {
   "cell_type": "code",
   "execution_count": null,
   "id": "574e0b4c",
   "metadata": {},
   "outputs": [
    {
     "data": {
      "text/html": [
       "<div>\n",
       "<style scoped>\n",
       "    .dataframe tbody tr th:only-of-type {\n",
       "        vertical-align: middle;\n",
       "    }\n",
       "\n",
       "    .dataframe tbody tr th {\n",
       "        vertical-align: top;\n",
       "    }\n",
       "\n",
       "    .dataframe thead th {\n",
       "        text-align: right;\n",
       "    }\n",
       "</style>\n",
       "<table border=\"1\" class=\"dataframe\">\n",
       "  <thead>\n",
       "    <tr style=\"text-align: right;\">\n",
       "      <th></th>\n",
       "      <th>OvertimePay</th>\n",
       "      <th>OtherPay</th>\n",
       "      <th>Benefits</th>\n",
       "    </tr>\n",
       "  </thead>\n",
       "  <tbody>\n",
       "    <tr>\n",
       "      <th>0</th>\n",
       "      <td>0.0</td>\n",
       "      <td>400184.25</td>\n",
       "      <td>NaN</td>\n",
       "    </tr>\n",
       "    <tr>\n",
       "      <th>1</th>\n",
       "      <td>245131.88</td>\n",
       "      <td>137811.38</td>\n",
       "      <td>NaN</td>\n",
       "    </tr>\n",
       "    <tr>\n",
       "      <th>2</th>\n",
       "      <td>106088.18</td>\n",
       "      <td>16452.6</td>\n",
       "      <td>NaN</td>\n",
       "    </tr>\n",
       "    <tr>\n",
       "      <th>3</th>\n",
       "      <td>56120.71</td>\n",
       "      <td>198306.9</td>\n",
       "      <td>NaN</td>\n",
       "    </tr>\n",
       "    <tr>\n",
       "      <th>4</th>\n",
       "      <td>9737.0</td>\n",
       "      <td>182234.59</td>\n",
       "      <td>NaN</td>\n",
       "    </tr>\n",
       "    <tr>\n",
       "      <th>...</th>\n",
       "      <td>...</td>\n",
       "      <td>...</td>\n",
       "      <td>...</td>\n",
       "    </tr>\n",
       "    <tr>\n",
       "      <th>148649</th>\n",
       "      <td>0.00</td>\n",
       "      <td>0.00</td>\n",
       "      <td>0.00</td>\n",
       "    </tr>\n",
       "    <tr>\n",
       "      <th>148650</th>\n",
       "      <td>NaN</td>\n",
       "      <td>NaN</td>\n",
       "      <td>NaN</td>\n",
       "    </tr>\n",
       "    <tr>\n",
       "      <th>148651</th>\n",
       "      <td>NaN</td>\n",
       "      <td>NaN</td>\n",
       "      <td>NaN</td>\n",
       "    </tr>\n",
       "    <tr>\n",
       "      <th>148652</th>\n",
       "      <td>NaN</td>\n",
       "      <td>NaN</td>\n",
       "      <td>NaN</td>\n",
       "    </tr>\n",
       "    <tr>\n",
       "      <th>148653</th>\n",
       "      <td>0.00</td>\n",
       "      <td>-618.13</td>\n",
       "      <td>0.00</td>\n",
       "    </tr>\n",
       "  </tbody>\n",
       "</table>\n",
       "<p>148654 rows × 3 columns</p>\n",
       "</div>"
      ],
      "text/plain": [
       "       OvertimePay   OtherPay Benefits\n",
       "0              0.0  400184.25      NaN\n",
       "1        245131.88  137811.38      NaN\n",
       "2        106088.18    16452.6      NaN\n",
       "3         56120.71   198306.9      NaN\n",
       "4           9737.0  182234.59      NaN\n",
       "...            ...        ...      ...\n",
       "148649        0.00       0.00     0.00\n",
       "148650         NaN        NaN      NaN\n",
       "148651         NaN        NaN      NaN\n",
       "148652         NaN        NaN      NaN\n",
       "148653        0.00    -618.13     0.00\n",
       "\n",
       "[148654 rows x 3 columns]"
      ]
     },
     "execution_count": 759,
     "metadata": {},
     "output_type": "execute_result"
    }
   ],
   "source": [
    "df[[\"OvertimePay\",\"OtherPay\",\"Benefits\"]] = df[[\"OvertimePay\",\"OtherPay\",\"Benefits\"]].replace(\"Not Provided\",num.nan)\n",
    "df[[\"OvertimePay\",\"OtherPay\",\"Benefits\"]]"
   ]
  },
  {
   "cell_type": "markdown",
   "id": "53e0f3a3",
   "metadata": {},
   "source": [
    "Finding a job title of ALBERT PARDINI"
   ]
  },
  {
   "cell_type": "code",
   "execution_count": null,
   "id": "2029cfcf",
   "metadata": {},
   "outputs": [
    {
     "data": {
      "text/plain": [
       "2    CAPTAIN III (POLICE DEPARTMENT)\n",
       "Name: JobTitle, dtype: object"
      ]
     },
     "execution_count": 760,
     "metadata": {},
     "output_type": "execute_result"
    }
   ],
   "source": [
    "df[df[\"EmployeeName\"].str.contains(\"ALBERT PARDINI\", case=True, na=False)][\"JobTitle\"]\n"
   ]
  },
  {
   "cell_type": "markdown",
   "id": "19ac622e",
   "metadata": {},
   "source": [
    "Finding how much ALBERT PARDINI earns (Include Benefits)?"
   ]
  },
  {
   "cell_type": "code",
   "execution_count": null,
   "id": "07a7f451",
   "metadata": {},
   "outputs": [
    {
     "data": {
      "text/plain": [
       "2    335279.91\n",
       "Name: TotalPayBenefits, dtype: float64"
      ]
     },
     "execution_count": 761,
     "metadata": {},
     "output_type": "execute_result"
    }
   ],
   "source": [
    "df[df['EmployeeName']=='ALBERT PARDINI']['TotalPayBenefits']"
   ]
  },
  {
   "cell_type": "markdown",
   "id": "eacfe3e6",
   "metadata": {},
   "source": [
    "Display Name of The Person Having The Highest BasePay"
   ]
  },
  {
   "cell_type": "code",
   "execution_count": null,
   "id": "6fdc4607",
   "metadata": {},
   "outputs": [
    {
     "data": {
      "text/plain": [
       "72925    Gregory P Suhr\n",
       "Name: EmployeeName, dtype: object"
      ]
     },
     "execution_count": 762,
     "metadata": {},
     "output_type": "execute_result"
    }
   ],
   "source": [
    "df[df[\"BasePay\"].max()== df[\"BasePay\"]][\"EmployeeName\"]\n",
    "\n"
   ]
  },
  {
   "cell_type": "markdown",
   "id": "191fe6e5",
   "metadata": {},
   "source": [
    "Find Average BasePay of All Employee Per Year "
   ]
  },
  {
   "cell_type": "code",
   "execution_count": null,
   "id": "27d65b7a",
   "metadata": {},
   "outputs": [
    {
     "data": {
      "text/plain": [
       "Year\n",
       "2011    63595.956517\n",
       "2012    65436.406857\n",
       "2013    69630.030216\n",
       "2014    66564.421924\n",
       "Name: BasePay, dtype: float64"
      ]
     },
     "execution_count": 763,
     "metadata": {},
     "output_type": "execute_result"
    }
   ],
   "source": [
    "df.groupby(\"Year\")[\"BasePay\"].mean()\n"
   ]
  },
  {
   "cell_type": "markdown",
   "id": "46a257a5",
   "metadata": {},
   "source": [
    "Find the maximum salary per year"
   ]
  },
  {
   "cell_type": "code",
   "execution_count": null,
   "id": "e79ac832",
   "metadata": {},
   "outputs": [
    {
     "data": {
      "text/plain": [
       "Year\n",
       "2011    294580.02\n",
       "2012    302578.00\n",
       "2013    319275.01\n",
       "2014    318835.49\n",
       "Name: BasePay, dtype: float64"
      ]
     },
     "execution_count": 764,
     "metadata": {},
     "output_type": "execute_result"
    }
   ],
   "source": [
    "df.groupby('Year')[\"BasePay\"].max()"
   ]
  },
  {
   "cell_type": "markdown",
   "id": "78c57d6a",
   "metadata": {},
   "source": [
    "Find Average BasePay of All Employee Per JobTitle "
   ]
  },
  {
   "cell_type": "code",
   "execution_count": null,
   "id": "06286c3c",
   "metadata": {},
   "outputs": [
    {
     "data": {
      "text/plain": [
       "JobTitle\n",
       "ACCOUNT CLERK                                     43300.806506\n",
       "ACCOUNTANT                                        46643.172000\n",
       "ACCOUNTANT INTERN                                 28732.663958\n",
       "ACPO,JuvP, Juv Prob (SFERS)                       62290.780000\n",
       "ACUPUNCTURIST                                     66374.400000\n",
       "                                                      ...     \n",
       "X-RAY LABORATORY AIDE                             47664.773077\n",
       "X-Ray Laboratory Aide                             46086.387100\n",
       "YOUTH COMMISSION ADVISOR, BOARD OF SUPERVISORS    52609.910000\n",
       "Youth Comm Advisor                                39077.957500\n",
       "ZOO CURATOR                                       43148.000000\n",
       "Name: BasePay, Length: 2159, dtype: float64"
      ]
     },
     "execution_count": 765,
     "metadata": {},
     "output_type": "execute_result"
    }
   ],
   "source": [
    "df.groupby(\"JobTitle\")[\"BasePay\"].mean()"
   ]
  },
  {
   "cell_type": "markdown",
   "id": "2c5dbbcb",
   "metadata": {},
   "source": [
    " Find Average BasePay of Employee Having Job Title ACCOUNTANT  \n"
   ]
  },
  {
   "cell_type": "code",
   "execution_count": null,
   "id": "75363d83",
   "metadata": {},
   "outputs": [
    {
     "data": {
      "text/plain": [
       "np.float64(46643.172)"
      ]
     },
     "execution_count": 768,
     "metadata": {},
     "output_type": "execute_result"
    }
   ],
   "source": [
    "df[df[\"JobTitle\"]==\"ACCOUNTANT\"][\"BasePay\"].mean()"
   ]
  },
  {
   "cell_type": "markdown",
   "id": "fa8f592e",
   "metadata": {},
   "source": [
    " Find Top 5 Most Common Jobs"
   ]
  },
  {
   "cell_type": "code",
   "execution_count": 777,
   "id": "31747325",
   "metadata": {},
   "outputs": [
    {
     "data": {
      "text/plain": [
       "JobTitle\n",
       "Transit Operator                7036\n",
       "Special Nurse                   4389\n",
       "Registered Nurse                3736\n",
       "Public Svc Aide-Public Works    2518\n",
       "Police Officer 3                2421\n",
       "Name: count, dtype: int64"
      ]
     },
     "execution_count": 777,
     "metadata": {},
     "output_type": "execute_result"
    }
   ],
   "source": [
    "df[\"JobTitle\"].value_counts().head(5)"
   ]
  }
 ],
 "metadata": {
  "kernelspec": {
   "display_name": "Python 3",
   "language": "python",
   "name": "python3"
  },
  "language_info": {
   "codemirror_mode": {
    "name": "ipython",
    "version": 3
   },
   "file_extension": ".py",
   "mimetype": "text/x-python",
   "name": "python",
   "nbconvert_exporter": "python",
   "pygments_lexer": "ipython3",
   "version": "3.13.0"
  }
 },
 "nbformat": 4,
 "nbformat_minor": 5
}
